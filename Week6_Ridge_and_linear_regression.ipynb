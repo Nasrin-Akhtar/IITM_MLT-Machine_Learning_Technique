{
  "nbformat": 4,
  "nbformat_minor": 0,
  "metadata": {
    "colab": {
      "provenance": [],
      "include_colab_link": true
    },
    "kernelspec": {
      "name": "python3",
      "display_name": "Python 3"
    },
    "language_info": {
      "name": "python"
    }
  },
  "cells": [
    {
      "cell_type": "markdown",
      "metadata": {
        "id": "view-in-github",
        "colab_type": "text"
      },
      "source": [
        "<a href=\"https://colab.research.google.com/github/Nasrin-Akhtar/IITM_MLT-Machine_Learning_Technique/blob/main/Week6_Ridge_and_linear_regression.ipynb\" target=\"_parent\"><img src=\"https://colab.research.google.com/assets/colab-badge.svg\" alt=\"Open In Colab\"/></a>"
      ]
    },
    {
      "cell_type": "code",
      "execution_count": 1,
      "metadata": {
        "id": "3TDibK0Yrxm_"
      },
      "outputs": [],
      "source": [
        "import numpy as np\n",
        "import matplotlib.pyplot as plt\n"
      ]
    },
    {
      "cell_type": "markdown",
      "source": [
        "# Week-6\n",
        "\n",
        "**Note:**:\n",
        "\n",
        "- For questions that involve plotting, just enter $0$ as the answer in the portal.\n",
        "\n"
      ],
      "metadata": {
        "id": "1TBHlt7hAdN1"
      }
    },
    {
      "cell_type": "markdown",
      "source": [
        "## Dataset\n",
        "\n",
        "Run the cell given below to generate the data-matrix $X$ and target vector $y$. $X$ is of shape $(n, d)$, where $n$ denotes the number of samples and $d$ denotes the number of features. $y$ is of shape $(n,)$. You will be using this dataset for the rest of the assignment.\n",
        "\n",
        "**Do not edit this cell.**"
      ],
      "metadata": {
        "id": "XJKrscLo9qwH"
      }
    },
    {
      "cell_type": "code",
      "source": [
        "from sklearn.datasets import load_diabetes\n",
        "X, y = load_diabetes(return_X_y = True)\n",
        "\n",
        "# set the random seed value to 0\n",
        "np.random.seed(0)"
      ],
      "metadata": {
        "id": "GIygEzr49Xvf"
      },
      "execution_count": 2,
      "outputs": []
    },
    {
      "cell_type": "markdown",
      "source": [
        "## Problem 1\n",
        "How many samples are there in the dataset?\n",
        "\n"
      ],
      "metadata": {
        "id": "VAONMkaU91v7"
      }
    },
    {
      "cell_type": "markdown",
      "source": [
        "## Solution"
      ],
      "metadata": {
        "id": "LnXmn5t-V8Us"
      }
    },
    {
      "cell_type": "code",
      "source": [
        "X.shape[0]# Write your solution code here"
      ],
      "metadata": {
        "id": "U_WEAtwXDqVF",
        "colab": {
          "base_uri": "https://localhost:8080/"
        },
        "outputId": "b96297f5-ee93-4dd3-c58d-a83bae6813c7"
      },
      "execution_count": 3,
      "outputs": [
        {
          "output_type": "execute_result",
          "data": {
            "text/plain": [
              "442"
            ]
          },
          "metadata": {},
          "execution_count": 3
        }
      ]
    },
    {
      "cell_type": "markdown",
      "source": [
        "## Problem 2\n",
        "\n",
        "How many features are there in the dataset?\n",
        "\n"
      ],
      "metadata": {
        "id": "ozjMS6e_91y3"
      }
    },
    {
      "cell_type": "markdown",
      "source": [
        "## Solution"
      ],
      "metadata": {
        "id": "xvFvIHN9V_s7"
      }
    },
    {
      "cell_type": "code",
      "source": [
        "X.shape[1]# Write your solution code here"
      ],
      "metadata": {
        "id": "ii_yZn4N-Di8",
        "colab": {
          "base_uri": "https://localhost:8080/"
        },
        "outputId": "24f10d61-646b-45ba-b4fc-1bbc1bb9bb43"
      },
      "execution_count": 4,
      "outputs": [
        {
          "output_type": "execute_result",
          "data": {
            "text/plain": [
              "10"
            ]
          },
          "metadata": {},
          "execution_count": 4
        }
      ]
    },
    {
      "cell_type": "markdown",
      "source": [
        "## Problem 3\n",
        "Write a function `shuffle_data(X, y)` that returns the shuffled $X$ and $y$.\n",
        "\n",
        "Note that it should shuffle the data pairs $(x_i, y_i)$.\n",
        "\n",
        "What will be the mean of the first 5 values in $y$?\n",
        "\n"
      ],
      "metadata": {
        "id": "HxIZaojUVGIL"
      }
    },
    {
      "cell_type": "code",
      "source": [
        "def shuffle_data(X,y):\n",
        "  #sample=X.shape[0]\n",
        "  #shuffle= np.random.permutation(sample)\n",
        "  #X_shuffle=X[shuffle]\n",
        "  #Y_shuffle=y[shuffle]\n",
        "  #mean = np.mean(Y_shuffle[:5])\n",
        "  #return mean,X_shuffle, Y_shuffle\n",
        "  data= list(zip(X,y))\n",
        "  np.random.shuffle(data)\n",
        "  X_shuffle, y_shuffle= zip(*data)\n",
        "  return np.array(X_shuffle), np.array(y_shuffle)\n",
        "X_shuffle, y_shuffle = shuffle_data(X,y)\n",
        "mean= np.mean(y_shuffle[:5])\n",
        "print(mean)\n",
        "# Write your solution code here"
      ],
      "metadata": {
        "id": "uLGsJyGkdgug",
        "colab": {
          "base_uri": "https://localhost:8080/"
        },
        "outputId": "e4c13f39-8b4f-413c-8d0b-5cd241fd3cd4"
      },
      "execution_count": 5,
      "outputs": [
        {
          "output_type": "stream",
          "name": "stdout",
          "text": [
            "180.4\n"
          ]
        }
      ]
    },
    {
      "cell_type": "markdown",
      "source": [
        "## Problem 4\n",
        "\n",
        "Write a function `train_test_split(X, y, test_size)` that divides the data (X, y) into $X_{train}$, $X_{test}$, $y_{train}$, $y_{test}$ respectively as per test_size which should be a value between 0 and 1.\n",
        "\n",
        "That is, if test_size = $t$, then `int(t*n)` data points should go to test and the remaining data points should go to train.\n",
        "\n",
        "$X_{train}$, $X_{test}$, $y_{train}$, $y_{test}$ should be returned by the function.\n",
        "\n",
        "Set the test_size to be 0.25 and output the sum of all y values settling in $y_{test}$.\n",
        "\n",
        "\n",
        "\n",
        "\n",
        "\n",
        "\n"
      ],
      "metadata": {
        "id": "pfsUsn_8WSXZ"
      }
    },
    {
      "cell_type": "code",
      "source": [
        "def train_test_split(X,y, test_size):\n",
        "  sample=int(test_size*len(y))\n",
        "  #indices=np.random.permutation(len(y))\n",
        "  #test_indices=indices[:sample]\n",
        "  #train_indices= indices[sample:]\n",
        "  X_train, y_train= X[sample:], y[sample:]\n",
        "  X_test, y_test= X[:sample], y[:sample]\n",
        "  res= sum(y_test)\n",
        "  print('sum of y_test is', res)\n",
        "  return X_train, X_test, y_train, y_test\n",
        "train_test_split(X_shuffle,y_shuffle,0.25)\n",
        "  # Write your solution code here"
      ],
      "metadata": {
        "id": "Y5VZVbT8dg2b",
        "colab": {
          "base_uri": "https://localhost:8080/"
        },
        "outputId": "930d7670-5afd-4e80-d2c3-61e4c990cca6"
      },
      "execution_count": 7,
      "outputs": [
        {
          "output_type": "stream",
          "name": "stdout",
          "text": [
            "sum of y_test is 16779.0\n"
          ]
        },
        {
          "output_type": "execute_result",
          "data": {
            "text/plain": [
              "(array([[ 0.04170844,  0.05068012,  0.01966154, ..., -0.00259226,\n",
              "          0.0311926 ,  0.00720652],\n",
              "        [-0.04910502, -0.04464164, -0.05686312, ..., -0.03949338,\n",
              "         -0.01189685,  0.01549073],\n",
              "        [-0.05273755, -0.04464164, -0.05578531, ...,  0.03430886,\n",
              "          0.13237579,  0.00306441],\n",
              "        ...,\n",
              "        [ 0.05987114, -0.04464164, -0.02129532, ...,  0.07120998,\n",
              "          0.07912244,  0.13561183],\n",
              "        [-0.07816532, -0.04464164, -0.0730303 , ..., -0.03949338,\n",
              "         -0.01811369, -0.08391984],\n",
              "        [ 0.04170844,  0.05068012,  0.07139652, ...,  0.03430886,\n",
              "          0.07340696,  0.08590655]]),\n",
              " array([[ 0.01991321,  0.05068012,  0.10480869, ..., -0.00259226,\n",
              "          0.00370906,  0.04034337],\n",
              "        [-0.01277963, -0.04464164,  0.06061839, ...,  0.03430886,\n",
              "          0.07020738,  0.00720652],\n",
              "        [ 0.03807591,  0.05068012,  0.00888341, ..., -0.00259226,\n",
              "         -0.01811369,  0.00720652],\n",
              "        ...,\n",
              "        [-0.04547248,  0.05068012,  0.13714305, ...,  0.07120998,\n",
              "          0.07101867,  0.04862759],\n",
              "        [-0.0854304 , -0.04464164, -0.00405033, ..., -0.03949338,\n",
              "         -0.0611758 , -0.01350402],\n",
              "        [ 0.03807591,  0.05068012, -0.02991782, ..., -0.00259226,\n",
              "         -0.01290868,  0.00306441]]),\n",
              " array([178.,  68., 109.,  94., 118., 275., 275., 127., 281.,  71.,  42.,\n",
              "         71., 128., 272., 135.,  51., 220., 167.,  78., 131., 212., 182.,\n",
              "        174., 259.,  77.,  91., 310.,  84., 134., 102., 128., 306., 245.,\n",
              "        201., 183., 111.,  96., 125., 182., 177.,  48.,  97., 259., 288.,\n",
              "        242.,  69.,  31., 154., 150.,  52., 261., 118., 102., 139.,  51.,\n",
              "         58., 144., 178.,  97.,  78., 129., 258., 124., 198., 185.,  66.,\n",
              "        237., 178., 275., 268., 242., 200., 214., 246., 236.,  85., 114.,\n",
              "         93.,  99.,  72., 270., 111.,  83.,  87.,  42., 172.,  65., 259.,\n",
              "        279., 141., 144., 220.,  90., 101.,  53.,  67.,  72., 121., 303.,\n",
              "        232., 140., 190., 221.,  71., 116., 111., 280., 233.,  78., 150.,\n",
              "        283.,  64., 140.,  65., 225., 206.,  63., 296., 173.,  85., 141.,\n",
              "         50.,  25., 153.,  55., 139., 336.,  73.,  95., 109.,  44., 180.,\n",
              "        263., 148.,  79.,  65., 102., 220., 277., 246., 200., 262., 191.,\n",
              "         97., 184.,  85., 248., 150., 268.,  59.,  70.,  88., 100., 190.,\n",
              "        113.,  66., 243., 185., 262.,  48., 160., 217., 210., 132., 257.,\n",
              "        104., 126., 292., 166.,  83.,  81., 144., 281.,  72.,  39., 109.,\n",
              "         60., 258., 178., 168.,  87.,  77., 216., 206., 142., 161., 265.,\n",
              "         60., 200., 265., 272., 146.,  94.,  55.,  69., 138., 258., 143.,\n",
              "        172.,  89.,  69., 199.,  55.,  45., 265.,  91., 170.,  55., 202.,\n",
              "        155.,  77.,  77.,  71., 123.,  84., 252.,  52.,  40., 274., 143.,\n",
              "        245.,  92., 151.,  39., 235.,  92., 253.,  94.,  81., 346.,  90.,\n",
              "        181., 162., 277., 152., 178., 124.,  75., 263., 202., 200., 108.,\n",
              "         96.,  60.,  72., 107.,  54., 158., 152., 220., 308., 249., 222.,\n",
              "         65., 173.,  88.,  72., 164.,  52., 115., 200.,  90., 248.,  37.,\n",
              "        230.,  63., 273.,  61.,  53., 189., 241., 118., 252., 104., 219.,\n",
              "        115., 332., 131., 185.,  63., 131.,  88., 187., 196.,  59., 341.,\n",
              "        109., 101., 113.,  80., 242., 168., 128., 233., 209., 225.,  83.,\n",
              "        214.,  96., 129.,  47., 229., 293.,  74., 202., 164., 202.,  59.,\n",
              "         91., 120., 151., 310.,  90., 116., 147.,  43.,  42.,  48., 134.,\n",
              "         84.,  71.,  64.,  70., 310., 311., 122., 243., 248.,  91., 281.,\n",
              "        142., 295.]),\n",
              " array([321., 215., 127.,  64., 175., 275., 179., 232., 142.,  99., 252.,\n",
              "        174., 129.,  74., 264.,  49.,  86.,  75., 101., 155., 170., 276.,\n",
              "        110., 136.,  68., 128., 103.,  93., 191., 196., 217., 181., 168.,\n",
              "        200., 219., 281., 151., 257.,  49., 198.,  96., 179.,  95., 198.,\n",
              "        244.,  89., 214., 182.,  84., 270., 156., 138., 113., 131., 195.,\n",
              "        171., 122.,  61., 230., 235.,  52., 121., 144., 107., 132., 302.,\n",
              "         53., 317., 137.,  57.,  98., 170.,  88.,  90.,  67., 163., 104.,\n",
              "        186., 180., 283., 141., 150.,  47., 297., 104.,  49., 103., 142.,\n",
              "         59.,  85., 137.,  53.,  51., 197., 135.,  72., 208., 237., 145.,\n",
              "        110., 292.,  97., 197., 158., 163.,  63., 192., 233.,  68., 160.]))"
            ]
          },
          "metadata": {},
          "execution_count": 7
        }
      ]
    },
    {
      "cell_type": "markdown",
      "source": [
        "## Problem 5\n",
        "\n",
        "What are the shapes of $X_{train}$, $X_{test}$, $y_{train}$, $y_{test}$ respectively?\n",
        "\n"
      ],
      "metadata": {
        "id": "D67g0r9ad8Ea"
      }
    },
    {
      "cell_type": "code",
      "source": [
        "out_var=train_test_split(X_shuffle,y_shuffle,0.25)\n",
        "\n",
        "X_train, X_test, y_train, y_test= out_var\n",
        "print('shape of X_train',X_train.shape)\n",
        "print('shape of y_train',y_train.shape)\n",
        "print('shape of X_test',X_test.shape)\n",
        "print('shape of y_test',y_test.shape)# Write your solution code here"
      ],
      "metadata": {
        "id": "kTPAakKblF7q",
        "colab": {
          "base_uri": "https://localhost:8080/"
        },
        "outputId": "5782bdfa-a4f8-4ebc-88b3-b79e7e0eee6b"
      },
      "execution_count": 8,
      "outputs": [
        {
          "output_type": "stream",
          "name": "stdout",
          "text": [
            "sum of y_test is 16779.0\n",
            "shape of X_train (332, 10)\n",
            "shape of y_train (332,)\n",
            "shape of X_test (110, 10)\n",
            "shape of y_test (110,)\n"
          ]
        }
      ]
    },
    {
      "cell_type": "markdown",
      "source": [
        "## Problem 6\n",
        "Add a dummy feature, i.e., a column containing all 1's (as the first column) in $X_{train}$ and $X_{test}$.\n",
        "\n",
        "Take the transpose of both $X_{train}$ and $X_{test}$.\n",
        "\n",
        "What are the shapes of $X_{train}$ and $X_{test}$?\n",
        "\n"
      ],
      "metadata": {
        "id": "nYgSo6DLe0n-"
      }
    },
    {
      "cell_type": "code",
      "source": [
        "X_train_new=np.column_stack((np.ones((X_train.shape[0])),X_train))\n",
        "X_test_new=np.column_stack((np.ones((X_test.shape[0])),X_test))\n",
        "X_train1=X_train_new.T\n",
        "X_test1= X_test_new.T\n",
        "print(X_train1.shape)\n",
        "print(X_test1.shape)\n",
        "# Write your solution code here"
      ],
      "metadata": {
        "id": "Lgv2V9qnnNv3",
        "colab": {
          "base_uri": "https://localhost:8080/"
        },
        "outputId": "9674328d-b341-420b-de7d-2f93335a9c8b"
      },
      "execution_count": 9,
      "outputs": [
        {
          "output_type": "stream",
          "name": "stdout",
          "text": [
            "(11, 332)\n",
            "(11, 110)\n"
          ]
        }
      ]
    },
    {
      "cell_type": "markdown",
      "source": [
        "## Problem 7\n",
        "\n",
        "Write a function `compute_weights(X, y)` that uses the closed form formula of linear regression and returns a weight vector.\n",
        "\n",
        "Call this function by passing $X_{train}$ and $y_{train}$. As the dummy feature was added as the first column, the first value in the weight vector will be the intercept. What is its value (rounded to one decimal place)?\n",
        "\n"
      ],
      "metadata": {
        "id": "mYY6hNkYf7gr"
      }
    },
    {
      "cell_type": "code",
      "source": [
        "def compute_weights(X,y):\n",
        "  prod=np.dot(X.T,X)\n",
        "  inv=np.dot(np.linalg.pinv(prod),X.T)\n",
        "  weight=np.dot(inv,y)\n",
        "  print(weight[0])\n",
        "  weight=np.linalg.inv(X.T @ X) @ X.T @ y\n",
        "  return weight\n",
        "compute_weights(X_train_new,y_train)\n",
        "  # Write your solution code here"
      ],
      "metadata": {
        "id": "XWxPR8N5nc17",
        "colab": {
          "base_uri": "https://localhost:8080/"
        },
        "outputId": "560451db-d523-4799-d367-a880a2b6cc92"
      },
      "execution_count": 10,
      "outputs": [
        {
          "output_type": "stream",
          "name": "stdout",
          "text": [
            "153.01360145107083\n"
          ]
        },
        {
          "output_type": "execute_result",
          "data": {
            "text/plain": [
              "array([ 153.01360145,  -43.83240026, -209.56222163,  593.6442307 ,\n",
              "        301.83639293, -558.45714382,  258.53785369,   -7.07169429,\n",
              "        139.87458192,  701.10058997,   28.9847114 ])"
            ]
          },
          "metadata": {},
          "execution_count": 10
        }
      ]
    },
    {
      "cell_type": "markdown",
      "source": [
        "## Problem 8\n",
        "\n",
        "Write a function `MSE(X, y, w)` that returns the mean squared error for the given `X`, `y` as per `w` values.\n",
        "\n",
        "Using this function, compute the train error and test error.\n",
        "\n",
        "Note: Here `y` is the true `y` for `X`.\n",
        "\n",
        "Compute both train and test error.\n",
        "\n",
        "What is the value of test error?\n"
      ],
      "metadata": {
        "id": "XUKviVRZoh2j"
      }
    },
    {
      "cell_type": "code",
      "source": [
        "def MSE(X,y,w):\n",
        "  y_pred= X @ w\n",
        "  mse=np.mean((y-y_pred)**2)\n",
        "  return mse\n",
        "weights=compute_weights(X_train_new,y_train)\n",
        "\n",
        "MSE(X_test_new,y_test,weights)# Write your solution code here"
      ],
      "metadata": {
        "id": "PkAULslJD48q",
        "colab": {
          "base_uri": "https://localhost:8080/"
        },
        "outputId": "202769cc-536c-4896-d36c-15f52315f956"
      },
      "execution_count": 11,
      "outputs": [
        {
          "output_type": "stream",
          "name": "stdout",
          "text": [
            "153.01360145107083\n"
          ]
        },
        {
          "output_type": "execute_result",
          "data": {
            "text/plain": [
              "3205.7177135064812"
            ]
          },
          "metadata": {},
          "execution_count": 11
        }
      ]
    },
    {
      "cell_type": "markdown",
      "source": [
        "## Problem 9\n",
        "\n",
        "Write a function `compute_weights_ridge(X, y)` that uses the closed form formula of Ridge regression and returns a weight vector.\n",
        "\n",
        "Call this function by passing  `X_train`, `y_train` and 0.3 as the value of regularization strength.\n",
        "\n",
        "\n",
        "Find the sum of values in the weight vector obtained. How much reduction in total sum of weights is achieved with respect to the the weight vector obtained from 'plain' linear regression (without regularization) computed earlier.\n"
      ],
      "metadata": {
        "id": "mZZVbejulHyv"
      }
    },
    {
      "cell_type": "code",
      "source": [
        "def compute_weights_ridge(X, y, alpha):\n",
        "  identity_matrix = np.identity(X.shape[1])\n",
        "  weights1 = np.linalg.inv(X.T @ X + alpha * identity_matrix) @ X.T @ y\n",
        "  return weights1\n",
        "ridge_w= compute_weights_ridge(X_train_new, y_train, 0.3)\n",
        "ridge_sum=np.sum(ridge_w)\n",
        "print(ridge_sum)\n",
        "linear_w= compute_weights(X_train_new, y_train)\n",
        "linear_sum= np.sum(linear_w)\n",
        "redundancy= linear_sum - ridge_sum\n",
        "print('redundancy:', redundancy)\n",
        "  # Write your solution code here"
      ],
      "metadata": {
        "id": "LCyCWK9dqZm1",
        "colab": {
          "base_uri": "https://localhost:8080/"
        },
        "outputId": "5f6c9bb8-510f-4d9c-d1a8-7a0b05855911"
      },
      "execution_count": 12,
      "outputs": [
        {
          "output_type": "stream",
          "name": "stdout",
          "text": [
            "984.7352995995072\n",
            "153.01360145107083\n",
            "redundancy: 373.33320246076255\n"
          ]
        }
      ]
    },
    {
      "cell_type": "markdown",
      "source": [
        "## Problem 10\n",
        "\n",
        "Compute the train error and test error. What is their absolute difference?\n",
        "\n"
      ],
      "metadata": {
        "id": "LC9Au6sPt1oT"
      }
    },
    {
      "cell_type": "code",
      "source": [
        "train_error= MSE(X_train_new, y_train,ridge_w)\n",
        "test_error = MSE(X_test_new, y_test,ridge_w)\n",
        "diff= abs(train_error-test_error)\n",
        "print(diff)# Write your solution code here"
      ],
      "metadata": {
        "id": "iOUjJJpZ3BaZ",
        "colab": {
          "base_uri": "https://localhost:8080/"
        },
        "outputId": "15f01426-b588-405d-9fd3-33942bac4c37"
      },
      "execution_count": 13,
      "outputs": [
        {
          "output_type": "stream",
          "name": "stdout",
          "text": [
            "189.15638044975412\n"
          ]
        }
      ]
    },
    {
      "cell_type": "markdown",
      "source": [
        "## Problem 11\n",
        "\n",
        "Use 10 different values between 0 and 5 as the regularization strength and keep a record of the weight vectors obtained for each. Further, calculate the sum of weights for each weight vector.\n",
        "\n",
        "Plot these sums of weights (on y-axis) with respect to the regularization strength (on x-axis) and observe the reduction in (sum of) weights.\n",
        "\n"
      ],
      "metadata": {
        "id": "Wn6-FG5puh8O"
      }
    },
    {
      "cell_type": "code",
      "source": [
        "alphas = np.linspace(0, 5, 10)\n",
        "sums_of_weights = []\n",
        "weight_vectors = []\n",
        "# Compute weights and record sums for each regularization strength\n",
        "for i in alphas:\n",
        "    weights = compute_weights_ridge(X_train_new, y_train, i)\n",
        "    weight_vectors.append(weights)\n",
        "    sums_of_weights.append(np.sum(weights))\n",
        "\n",
        "# Plotting\n",
        "plt.plot(alphas, sums_of_weights, marker='o', linestyle='-', color='b')\n",
        "plt.title('Reduction in (Sum of) Weights with Ridge Regularization')\n",
        "plt.xlabel('Regularization Strength (alpha)')\n",
        "plt.ylabel('Sum of Weights')\n",
        "plt.show()# Write your solution code here"
      ],
      "metadata": {
        "id": "zlzueWYWwtSi",
        "colab": {
          "base_uri": "https://localhost:8080/",
          "height": 472
        },
        "outputId": "88a85873-473c-47e2-f171-580713e07180"
      },
      "execution_count": 14,
      "outputs": [
        {
          "output_type": "display_data",
          "data": {
            "text/plain": [
              "<Figure size 640x480 with 1 Axes>"
            ],
            "image/png": "[encoded data removed]"
          },
          "metadata": {}
        }
      ]
    }
  ]
}