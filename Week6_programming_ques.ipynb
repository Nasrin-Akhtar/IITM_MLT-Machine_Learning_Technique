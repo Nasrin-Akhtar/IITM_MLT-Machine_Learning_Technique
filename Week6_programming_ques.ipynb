{
  "nbformat": 4,
  "nbformat_minor": 0,
  "metadata": {
    "colab": {
      "provenance": [],
      "include_colab_link": true
    },
    "kernelspec": {
      "name": "python3",
      "display_name": "Python 3"
    },
    "language_info": {
      "name": "python"
    }
  },
  "cells": [
    {
      "cell_type": "markdown",
      "metadata": {
        "id": "view-in-github",
        "colab_type": "text"
      },
      "source": [
        "<a href=\"https://colab.research.google.com/github/Nasrin-Akhtar/IITM_MLT-Machine_Learning_Technique/blob/main/Week6_programming_ques.ipynb\" target=\"_parent\"><img src=\"https://colab.research.google.com/assets/colab-badge.svg\" alt=\"Open In Colab\"/></a>"
      ]
    },
    {
      "cell_type": "code",
      "execution_count": 190,
      "metadata": {
        "id": "3TDibK0Yrxm_"
      },
      "outputs": [],
      "source": [
        "import numpy as np\n",
        "import matplotlib.pyplot as plt\n"
      ]
    },
    {
      "cell_type": "markdown",
      "source": [
        "# Week-6\n",
        "\n",
        "**Note:**:\n",
        "\n",
        "- For questions that involve plotting, just enter $0$ as the answer in the portal.\n",
        "\n"
      ],
      "metadata": {
        "id": "1TBHlt7hAdN1"
      }
    },
    {
      "cell_type": "markdown",
      "source": [
        "## Dataset\n",
        "\n",
        "Run the cell given below to generate the data-matrix $X$ and target vector $y$. $X$ is of shape $(n, d)$, where $n$ denotes the number of samples and $d$ denotes the number of features. $y$ is of shape $(n,)$. You will be using this dataset for the rest of the assignment.\n",
        "\n",
        "**Do not edit this cell.**"
      ],
      "metadata": {
        "id": "XJKrscLo9qwH"
      }
    },
    {
      "cell_type": "code",
      "source": [
        "from sklearn.datasets import load_diabetes\n",
        "X, y = load_diabetes(return_X_y = True)\n",
        "\n",
        "# set the random seed value to 0\n",
        "np.random.seed(0)"
      ],
      "metadata": {
        "id": "GIygEzr49Xvf"
      },
      "execution_count": 191,
      "outputs": []
    },
    {
      "cell_type": "markdown",
      "source": [
        "## Problem 1\n",
        "How many samples are there in the dataset?\n",
        "\n"
      ],
      "metadata": {
        "id": "VAONMkaU91v7"
      }
    },
    {
      "cell_type": "markdown",
      "source": [
        "## Solution"
      ],
      "metadata": {
        "id": "LnXmn5t-V8Us"
      }
    },
    {
      "cell_type": "code",
      "source": [
        "X.shape[0]# Write your solution code here"
      ],
      "metadata": {
        "id": "U_WEAtwXDqVF",
        "colab": {
          "base_uri": "https://localhost:8080/"
        },
        "outputId": "1825baab-11a9-4515-e973-84fae3acdab4"
      },
      "execution_count": 192,
      "outputs": [
        {
          "output_type": "execute_result",
          "data": {
            "text/plain": [
              "442"
            ]
          },
          "metadata": {},
          "execution_count": 192
        }
      ]
    },
    {
      "cell_type": "markdown",
      "source": [
        "## Problem 2\n",
        "\n",
        "How many features are there in the dataset?\n",
        "\n"
      ],
      "metadata": {
        "id": "ozjMS6e_91y3"
      }
    },
    {
      "cell_type": "markdown",
      "source": [
        "## Solution"
      ],
      "metadata": {
        "id": "xvFvIHN9V_s7"
      }
    },
    {
      "cell_type": "code",
      "source": [
        "X.shape[1]# Write your solution code here"
      ],
      "metadata": {
        "id": "ii_yZn4N-Di8",
        "colab": {
          "base_uri": "https://localhost:8080/"
        },
        "outputId": "74bc0add-242b-47b3-c9c4-ce81f022cebd"
      },
      "execution_count": 193,
      "outputs": [
        {
          "output_type": "execute_result",
          "data": {
            "text/plain": [
              "10"
            ]
          },
          "metadata": {},
          "execution_count": 193
        }
      ]
    },
    {
      "cell_type": "markdown",
      "source": [
        "## Problem 3\n",
        "Write a function `shuffle_data(X, y)` that returns the shuffled $X$ and $y$.\n",
        "\n",
        "Note that it should shuffle the data pairs $(x_i, y_i)$.\n",
        "\n",
        "What will be the mean of the first 5 values in $y$?\n",
        "\n"
      ],
      "metadata": {
        "id": "HxIZaojUVGIL"
      }
    },
    {
      "cell_type": "code",
      "source": [
        "def shuffle_data(X,y):\n",
        "  sample=X.shape[0]\n",
        "  shuffle= np.random.permutation(sample)\n",
        "  X_shuffle=X[shuffle]\n",
        "  Y_shuffle=y[shuffle]\n",
        "  mean = np.mean(Y_shuffle[:5])\n",
        "  return mean,X_shuffle, Y_shuffle\n",
        "shuffle_data(X,y)\n",
        "\n",
        "# Write your solution code here"
      ],
      "metadata": {
        "id": "uLGsJyGkdgug",
        "colab": {
          "base_uri": "https://localhost:8080/"
        },
        "outputId": "b15b5c83-b527-4530-df36-e498d4e2937d"
      },
      "execution_count": 194,
      "outputs": [
        {
          "output_type": "execute_result",
          "data": {
            "text/plain": [
              "(180.4,\n",
              " array([[ 0.01991321,  0.05068012,  0.10480869, ..., -0.00259226,\n",
              "          0.00370906,  0.04034337],\n",
              "        [-0.01277963, -0.04464164,  0.06061839, ...,  0.03430886,\n",
              "          0.07020738,  0.00720652],\n",
              "        [ 0.03807591,  0.05068012,  0.00888341, ..., -0.00259226,\n",
              "         -0.01811369,  0.00720652],\n",
              "        ...,\n",
              "        [ 0.05987114, -0.04464164, -0.02129532, ...,  0.07120998,\n",
              "          0.07912244,  0.13561183],\n",
              "        [-0.07816532, -0.04464164, -0.0730303 , ..., -0.03949338,\n",
              "         -0.01811369, -0.08391984],\n",
              "        [ 0.04170844,  0.05068012,  0.07139652, ...,  0.03430886,\n",
              "          0.07340696,  0.08590655]]),\n",
              " array([321., 215., 127.,  64., 175., 275., 179., 232., 142.,  99., 252.,\n",
              "        174., 129.,  74., 264.,  49.,  86.,  75., 101., 155., 170., 276.,\n",
              "        110., 136.,  68., 128., 103.,  93., 191., 196., 217., 181., 168.,\n",
              "        200., 219., 281., 151., 257.,  49., 198.,  96., 179.,  95., 198.,\n",
              "        244.,  89., 214., 182.,  84., 270., 156., 138., 113., 131., 195.,\n",
              "        171., 122.,  61., 230., 235.,  52., 121., 144., 107., 132., 302.,\n",
              "         53., 317., 137.,  57.,  98., 170.,  88.,  90.,  67., 163., 104.,\n",
              "        186., 180., 283., 141., 150.,  47., 297., 104.,  49., 103., 142.,\n",
              "         59.,  85., 137.,  53.,  51., 197., 135.,  72., 208., 237., 145.,\n",
              "        110., 292.,  97., 197., 158., 163.,  63., 192., 233.,  68., 160.,\n",
              "        178.,  68., 109.,  94., 118., 275., 275., 127., 281.,  71.,  42.,\n",
              "         71., 128., 272., 135.,  51., 220., 167.,  78., 131., 212., 182.,\n",
              "        174., 259.,  77.,  91., 310.,  84., 134., 102., 128., 306., 245.,\n",
              "        201., 183., 111.,  96., 125., 182., 177.,  48.,  97., 259., 288.,\n",
              "        242.,  69.,  31., 154., 150.,  52., 261., 118., 102., 139.,  51.,\n",
              "         58., 144., 178.,  97.,  78., 129., 258., 124., 198., 185.,  66.,\n",
              "        237., 178., 275., 268., 242., 200., 214., 246., 236.,  85., 114.,\n",
              "         93.,  99.,  72., 270., 111.,  83.,  87.,  42., 172.,  65., 259.,\n",
              "        279., 141., 144., 220.,  90., 101.,  53.,  67.,  72., 121., 303.,\n",
              "        232., 140., 190., 221.,  71., 116., 111., 280., 233.,  78., 150.,\n",
              "        283.,  64., 140.,  65., 225., 206.,  63., 296., 173.,  85., 141.,\n",
              "         50.,  25., 153.,  55., 139., 336.,  73.,  95., 109.,  44., 180.,\n",
              "        263., 148.,  79.,  65., 102., 220., 277., 246., 200., 262., 191.,\n",
              "         97., 184.,  85., 248., 150., 268.,  59.,  70.,  88., 100., 190.,\n",
              "        113.,  66., 243., 185., 262.,  48., 160., 217., 210., 132., 257.,\n",
              "        104., 126., 292., 166.,  83.,  81., 144., 281.,  72.,  39., 109.,\n",
              "         60., 258., 178., 168.,  87.,  77., 216., 206., 142., 161., 265.,\n",
              "         60., 200., 265., 272., 146.,  94.,  55.,  69., 138., 258., 143.,\n",
              "        172.,  89.,  69., 199.,  55.,  45., 265.,  91., 170.,  55., 202.,\n",
              "        155.,  77.,  77.,  71., 123.,  84., 252.,  52.,  40., 274., 143.,\n",
              "        245.,  92., 151.,  39., 235.,  92., 253.,  94.,  81., 346.,  90.,\n",
              "        181., 162., 277., 152., 178., 124.,  75., 263., 202., 200., 108.,\n",
              "         96.,  60.,  72., 107.,  54., 158., 152., 220., 308., 249., 222.,\n",
              "         65., 173.,  88.,  72., 164.,  52., 115., 200.,  90., 248.,  37.,\n",
              "        230.,  63., 273.,  61.,  53., 189., 241., 118., 252., 104., 219.,\n",
              "        115., 332., 131., 185.,  63., 131.,  88., 187., 196.,  59., 341.,\n",
              "        109., 101., 113.,  80., 242., 168., 128., 233., 209., 225.,  83.,\n",
              "        214.,  96., 129.,  47., 229., 293.,  74., 202., 164., 202.,  59.,\n",
              "         91., 120., 151., 310.,  90., 116., 147.,  43.,  42.,  48., 134.,\n",
              "         84.,  71.,  64.,  70., 310., 311., 122., 243., 248.,  91., 281.,\n",
              "        142., 295.]))"
            ]
          },
          "metadata": {},
          "execution_count": 194
        }
      ]
    },
    {
      "cell_type": "markdown",
      "source": [
        "## Problem 4\n",
        "\n",
        "Write a function `train_test_split(X, y, test_size)` that divides the data (X, y) into $X_{train}$, $X_{test}$, $y_{train}$, $y_{test}$ respectively as per test_size which should be a value between 0 and 1.\n",
        "\n",
        "That is, if test_size = $t$, then `int(t*n)` data points should go to test and the remaining data points should go to train.\n",
        "\n",
        "$X_{train}$, $X_{test}$, $y_{train}$, $y_{test}$ should be returned by the function.\n",
        "\n",
        "Set the test_size to be 0.25 and output the sum of all y values settling in $y_{test}$.\n",
        "\n",
        "\n",
        "\n",
        "\n",
        "\n",
        "\n"
      ],
      "metadata": {
        "id": "pfsUsn_8WSXZ"
      }
    },
    {
      "cell_type": "code",
      "source": [
        "def train_test_split(X,y, test_size):\n",
        "  sample=int(test_size*len(y))\n",
        "  indices=np.random.permutation(len(y))\n",
        "  test_indices=indices[:sample]\n",
        "  train_indices= indices[sample:]\n",
        "  X_train, y_train= X[train_indices,:], y[train_indices]\n",
        "  X_test, y_test= X[test_indices,:], y[test_indices]\n",
        "  res= sum(y_test)\n",
        "  print('sum of y_test is', res)\n",
        "  return X_train, X_test, y_train, y_test\n",
        "train_test_split(X,y,0.25)\n",
        "  # Write your solution code here"
      ],
      "metadata": {
        "id": "Y5VZVbT8dg2b",
        "colab": {
          "base_uri": "https://localhost:8080/"
        },
        "outputId": "fcc86879-557c-4a63-9769-184ce05f79ed"
      },
      "execution_count": 195,
      "outputs": [
        {
          "output_type": "stream",
          "name": "stdout",
          "text": [
            "sum of y_test is 17178.0\n"
          ]
        },
        {
          "output_type": "execute_result",
          "data": {
            "text/plain": [
              "(array([[-0.02730979,  0.05068012, -0.00728377, ..., -0.03949338,\n",
              "         -0.08237869, -0.02593034],\n",
              "        [-0.10359309, -0.04464164, -0.0374625 , ..., -0.00259226,\n",
              "         -0.06833155, -0.02593034],\n",
              "        [ 0.01991321, -0.04464164, -0.02345095, ..., -0.0763945 ,\n",
              "         -0.04257085,  0.07348023],\n",
              "        ...,\n",
              "        [-0.0854304 ,  0.05068012, -0.03099563, ..., -0.03949338,\n",
              "         -0.09643495, -0.03421455],\n",
              "        [-0.09632802, -0.04464164, -0.06979687, ..., -0.03949338,\n",
              "         -0.04688253, -0.07977773],\n",
              "        [-0.03457486,  0.05068012,  0.00564998, ..., -0.03949338,\n",
              "         -0.04542404,  0.03205916]]),\n",
              " array([[ 0.04534098, -0.04464164,  0.0519959 , ...,  0.03430886,\n",
              "          0.03723625,  0.01963284],\n",
              "        [-0.00551455, -0.04464164,  0.06492964, ...,  0.00072884,\n",
              "         -0.01811369,  0.03205916],\n",
              "        [-0.00551455,  0.05068012, -0.01590626, ...,  0.03430886,\n",
              "         -0.01811369,  0.04448548],\n",
              "        ...,\n",
              "        [ 0.03081083,  0.05068012,  0.04660684, ...,  0.07120998,\n",
              "          0.00620674,  0.00720652],\n",
              "        [ 0.00538306,  0.05068012,  0.03043966, ..., -0.03949338,\n",
              "          0.0086406 ,  0.01549073],\n",
              "        [ 0.01628068, -0.04464164, -0.04500719, ..., -0.0763945 ,\n",
              "         -0.04257085,  0.04034337]]),\n",
              " array([ 52., 113.,  92., 158., 108., 104., 253.,  97., 237., 259., 321.,\n",
              "        277., 263.,  79., 243., 118., 268.,  99., 141., 122.,  42., 129.,\n",
              "         96.,  74., 263.,  77.,  75.,  72., 127., 295., 262., 214., 118.,\n",
              "        116., 275., 200., 252., 127., 178., 199., 128., 109.,  57., 115.,\n",
              "         51., 182.,  53., 164., 172.,  72., 132.,  90., 150., 265.,  97.,\n",
              "        241.,  25., 283.,  42., 155.,  83.,  72.,  87., 180.,  53., 220.,\n",
              "         64., 139., 139., 101.,  53., 160., 215., 248., 281., 220.,  48.,\n",
              "        293., 281., 141., 310.,  55.,  73., 107., 154., 197., 131.,  61.,\n",
              "         68., 102., 163.,  65.,  94., 124., 283., 153.,  71., 270., 142.,\n",
              "        201., 191., 183., 248., 275., 276., 242.,  75.,  89.,  69., 110.,\n",
              "        243.,  54.,  40., 170.,  71., 104.,  59., 273., 244., 200., 121.,\n",
              "        134.,  89.,  65., 121.,  60., 187., 179., 179.,  84.,  80.,  91.,\n",
              "        109., 275., 277., 124.,  64., 140., 177., 145., 279., 178., 191.,\n",
              "         50., 185., 225., 170.,  58., 220., 292., 116., 144.,  66., 200.,\n",
              "        111., 178.,  71.,  71.,  47., 143., 142., 132.,  90., 209., 252.,\n",
              "         69., 142.,  88., 200.,  71.,  78.,  49.,  94., 310., 303.,  47.,\n",
              "         72., 102.,  51., 195., 138., 310.,  81., 172., 168.,  48., 217.,\n",
              "        212.,  96.,  48.,  70.,  63.,  59., 257., 141., 120., 332., 131.,\n",
              "        200., 265., 186.,  94., 246., 336., 261., 150.,  64.,  84., 264.,\n",
              "        217., 135., 242., 151., 197.,  93., 128., 181., 185.,  53., 258.,\n",
              "        242.,  91., 230.,  78.,  52., 142.,  70., 152., 171., 125.,  63.,\n",
              "        138., 136., 175.,  49.,  95., 236., 144., 155., 198., 225.,  98.,\n",
              "        202.,  68.,  42., 214., 111.,  88., 104.,  99., 135., 292., 182.,\n",
              "        214., 101.,  86., 258.,  96., 107.,  90., 101.,  81., 163.,  97.,\n",
              "        109., 229., 341., 196., 230.,  95., 150., 113.,  84., 152.,  85.,\n",
              "        111., 252., 151., 281., 151., 190.,  74., 126.,  63., 144.,  88.,\n",
              "         83., 346., 150., 210., 237., 189., 302., 248., 232.,  49., 122.,\n",
              "        113., 216.,  78., 202.,  90., 161., 272., 129.,  39., 206., 258.,\n",
              "         77., 137., 249., 156.,  55., 268., 235.,  77., 206., 103., 192.,\n",
              "         60.,  84., 137., 184.,  85., 115., 167., 219., 147., 160.,  43.,\n",
              "        158.,  67.]),\n",
              " array([164., 109., 104.,  44., 202., 274.,  59.,  61., 173., 288.,  60.,\n",
              "         83.,  55., 174.,  55.,  68., 306., 262.,  88.,  39., 233.,  85.,\n",
              "         91., 235., 219.,  77., 110.,  31., 233.,  66., 198., 134., 178.,\n",
              "         87., 297., 198., 200., 144., 128., 148.,  69., 102., 146., 162.,\n",
              "        220.,  72., 131.,  67.,  85., 245., 196.,  59., 131.,  90., 281.,\n",
              "        118., 280., 270., 259., 114.,  37., 182., 103.,  92., 168., 257.,\n",
              "         52., 166.,  97., 233., 222.,  65., 232., 221., 180., 181.,  52.,\n",
              "         45., 311., 265., 296., 168., 140., 173., 190., 275.,  51., 208.,\n",
              "        246., 143., 170.,  65., 128., 317.,  96., 129., 272., 100.,  91.,\n",
              "        123., 259.,  72., 178., 185., 308.,  63., 245., 174., 202.,  93.]))"
            ]
          },
          "metadata": {},
          "execution_count": 195
        }
      ]
    },
    {
      "cell_type": "markdown",
      "source": [
        "## Problem 5\n",
        "\n",
        "What are the shapes of $X_{train}$, $X_{test}$, $y_{train}$, $y_{test}$ respectively?\n",
        "\n"
      ],
      "metadata": {
        "id": "D67g0r9ad8Ea"
      }
    },
    {
      "cell_type": "code",
      "source": [
        "out_var=train_test_split(X,y,0.25)\n",
        "\n",
        "X_train, X_test, y_train, y_test= out_var\n",
        "print('shape of X_train',X_train.shape)\n",
        "print('shape of y_train',y_train.shape)\n",
        "print('shape of X_test',X_test.shape)\n",
        "print('shape of y_test',y_test.shape)# Write your solution code here"
      ],
      "metadata": {
        "id": "kTPAakKblF7q",
        "colab": {
          "base_uri": "https://localhost:8080/"
        },
        "outputId": "07e87e4d-ee46-4e01-f321-822853c18c1f"
      },
      "execution_count": 196,
      "outputs": [
        {
          "output_type": "stream",
          "name": "stdout",
          "text": [
            "sum of y_test is 17088.0\n",
            "shape of X_train (332, 10)\n",
            "shape of y_train (332,)\n",
            "shape of X_test (110, 10)\n",
            "shape of y_test (110,)\n"
          ]
        }
      ]
    },
    {
      "cell_type": "markdown",
      "source": [
        "## Problem 6\n",
        "Add a dummy feature, i.e., a column containing all 1's (as the first column) in $X_{train}$ and $X_{test}$.\n",
        "\n",
        "Take the transpose of both $X_{train}$ and $X_{test}$.\n",
        "\n",
        "What are the shapes of $X_{train}$ and $X_{test}$?\n",
        "\n"
      ],
      "metadata": {
        "id": "nYgSo6DLe0n-"
      }
    },
    {
      "cell_type": "code",
      "source": [
        "X_train_new=np.column_stack((np.ones((X_train.shape[0])),X_train))\n",
        "X_test_new=np.column_stack((np.ones((X_test.shape[0])),X_test))\n",
        "X_train1=X_train_new.T\n",
        "X_test1= X_test_new.T\n",
        "print(X_train1.shape)\n",
        "print(X_test1.shape)\n",
        "# Write your solution code here"
      ],
      "metadata": {
        "id": "Lgv2V9qnnNv3",
        "colab": {
          "base_uri": "https://localhost:8080/"
        },
        "outputId": "06adc0a9-d44b-4daa-ab1a-93a3d87c1164"
      },
      "execution_count": 197,
      "outputs": [
        {
          "output_type": "stream",
          "name": "stdout",
          "text": [
            "(11, 332)\n",
            "(11, 110)\n"
          ]
        }
      ]
    },
    {
      "cell_type": "markdown",
      "source": [
        "## Problem 7\n",
        "\n",
        "Write a function `compute_weights(X, y)` that uses the closed form formula of linear regression and returns a weight vector.\n",
        "\n",
        "Call this function by passing $X_{train}$ and $y_{train}$. As the dummy feature was added as the first column, the first value in the weight vector will be the intercept. What is its value (rounded to one decimal place)?\n",
        "\n"
      ],
      "metadata": {
        "id": "mYY6hNkYf7gr"
      }
    },
    {
      "cell_type": "code",
      "source": [
        "def compute_weights(X,y):\n",
        "  prod=np.dot(X.T,X)\n",
        "  inv=np.dot(np.linalg.pinv(prod),X.T)\n",
        "  weight=np.dot(inv,y)\n",
        "  print(weight[0])\n",
        "  weight=np.linalg.inv(X.T @ X) @ X.T @ y\n",
        "  return weight\n",
        "compute_weights(X_train_new,y_train)\n",
        "  # Write your solution code here"
      ],
      "metadata": {
        "id": "XWxPR8N5nc17",
        "colab": {
          "base_uri": "https://localhost:8080/"
        },
        "outputId": "7628ad96-af48-445e-f553-709924ae9ed4"
      },
      "execution_count": 198,
      "outputs": [
        {
          "output_type": "stream",
          "name": "stdout",
          "text": [
            "153.57940512735547\n"
          ]
        },
        {
          "output_type": "execute_result",
          "data": {
            "text/plain": [
              "array([ 153.57940513,  -82.1112581 , -277.65221117,  570.11716317,\n",
              "        310.35980494, -362.2340788 ,  208.7410102 , -155.35597325,\n",
              "         86.96127519,  629.67902312,   30.05689162])"
            ]
          },
          "metadata": {},
          "execution_count": 198
        }
      ]
    },
    {
      "cell_type": "markdown",
      "source": [
        "## Problem 8\n",
        "\n",
        "Write a function `MSE(X, y, w)` that returns the mean squared error for the given `X`, `y` as per `w` values.\n",
        "\n",
        "Using this function, compute the train error and test error.\n",
        "\n",
        "Note: Here `y` is the true `y` for `X`.\n",
        "\n",
        "Compute both train and test error.\n",
        "\n",
        "What is the value of test error?\n"
      ],
      "metadata": {
        "id": "XUKviVRZoh2j"
      }
    },
    {
      "cell_type": "code",
      "source": [
        "def MSE(X,y,w):\n",
        "  y_pred= X @ w\n",
        "  mse=np.mean((y-y_pred)**2)\n",
        "  return mse\n",
        "weights=compute_weights(X_train_new,y_train)\n",
        "\n",
        "MSE(X_test_new,y_test,weights)# Write your solution code here"
      ],
      "metadata": {
        "id": "PkAULslJD48q",
        "colab": {
          "base_uri": "https://localhost:8080/"
        },
        "outputId": "b06a19e6-16a8-41db-d2b5-da50a422e272"
      },
      "execution_count": 199,
      "outputs": [
        {
          "output_type": "stream",
          "name": "stdout",
          "text": [
            "153.57940512735547\n"
          ]
        },
        {
          "output_type": "execute_result",
          "data": {
            "text/plain": [
              "3172.4107072823153"
            ]
          },
          "metadata": {},
          "execution_count": 199
        }
      ]
    },
    {
      "cell_type": "markdown",
      "source": [
        "## Problem 9\n",
        "\n",
        "Write a function `compute_weights_ridge(X, y)` that uses the closed form formula of Ridge regression and returns a weight vector.\n",
        "\n",
        "Call this function by passing  `X_train`, `y_train` and 0.3 as the value of regularization strength.\n",
        "\n",
        "\n",
        "Find the sum of values in the weight vector obtained. How much reduction in total sum of weights is achieved with respect to the the weight vector obtained from 'plain' linear regression (without regularization) computed earlier.\n"
      ],
      "metadata": {
        "id": "mZZVbejulHyv"
      }
    },
    {
      "cell_type": "code",
      "source": [
        "def compute_weights_ridge(X, y, alpha):\n",
        "  identity_matrix = np.identity(X.shape[1])\n",
        "  weights1 = np.linalg.inv(X.T @ X + alpha * identity_matrix) @ X.T @ y\n",
        "  return weights1\n",
        "ridge_w= compute_weights_ridge(X_train_new, y_train, 0.3)\n",
        "ridge_sum=np.sum(ridge_w)\n",
        "print(ridge_sum)\n",
        "linear_w= compute_weights(X_train_new, y_train)\n",
        "linear_sum= np.sum(linear_w)\n",
        "redundancy= linear_sum - ridge_sum\n",
        "print('redundancy:', redundancy)\n",
        "  # Write your solution code here"
      ],
      "metadata": {
        "id": "LCyCWK9dqZm1",
        "colab": {
          "base_uri": "https://localhost:8080/"
        },
        "outputId": "5d617947-0d70-4727-8968-ff0820faea28"
      },
      "execution_count": 204,
      "outputs": [
        {
          "output_type": "stream",
          "name": "stdout",
          "text": [
            "933.2947268878165\n",
            "153.57940512735547\n",
            "redundancy: 178.84632517235696\n"
          ]
        }
      ]
    },
    {
      "cell_type": "markdown",
      "source": [
        "## Problem 10\n",
        "\n",
        "Compute the train error and test error. What is their absolute difference?\n",
        "\n"
      ],
      "metadata": {
        "id": "LC9Au6sPt1oT"
      }
    },
    {
      "cell_type": "code",
      "source": [
        "train_error= MSE(X_train_new, y_train,ridge_w)\n",
        "test_error = MSE(X_test_new, y_test,ridge_w)\n",
        "diff= abs(train_error-test_error)\n",
        "print(diff)# Write your solution code here"
      ],
      "metadata": {
        "id": "iOUjJJpZ3BaZ",
        "colab": {
          "base_uri": "https://localhost:8080/"
        },
        "outputId": "cf40fd42-3b82-4193-b2d5-4a0c245bc42a"
      },
      "execution_count": 205,
      "outputs": [
        {
          "output_type": "stream",
          "name": "stdout",
          "text": [
            "62.45882822161775\n"
          ]
        }
      ]
    },
    {
      "cell_type": "markdown",
      "source": [
        "## Problem 11\n",
        "\n",
        "Use 10 different values between 0 and 5 as the regularization strength and keep a record of the weight vectors obtained for each. Further, calculate the sum of weights for each weight vector.\n",
        "\n",
        "Plot these sums of weights (on y-axis) with respect to the regularization strength (on x-axis) and observe the reduction in (sum of) weights.\n",
        "\n"
      ],
      "metadata": {
        "id": "Wn6-FG5puh8O"
      }
    },
    {
      "cell_type": "code",
      "source": [
        "# Write your solution code here"
      ],
      "metadata": {
        "id": "zlzueWYWwtSi"
      },
      "execution_count": null,
      "outputs": []
    }
  ]
}